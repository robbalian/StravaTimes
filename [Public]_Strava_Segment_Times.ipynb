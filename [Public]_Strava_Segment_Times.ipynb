{
  "nbformat": 4,
  "nbformat_minor": 0,
  "metadata": {
    "colab": {
      "provenance": [],
      "authorship_tag": "ABX9TyMICROtzAR169dfClrNnnsm",
      "include_colab_link": true
    },
    "kernelspec": {
      "name": "python3",
      "display_name": "Python 3"
    },
    "language_info": {
      "name": "python"
    }
  },
  "cells": [
    {
      "cell_type": "markdown",
      "metadata": {
        "id": "view-in-github",
        "colab_type": "text"
      },
      "source": [
        "<a href=\"https://colab.research.google.com/github/robbalian/StravaTimes/blob/main/%5BPublic%5D_Strava_Segment_Times.ipynb\" target=\"_parent\"><img src=\"https://colab.research.google.com/assets/colab-badge.svg\" alt=\"Open In Colab\"/></a>"
      ]
    },
    {
      "cell_type": "code",
      "source": [
        "### Strava Segment Times over time\n",
        "# I love strava, but they want to charge $7/month to see the list of my activity times on a given segment.\n",
        "# That seems a bit extreme, so I built this tool so analyze particular segments and my rides over the years.\n",
        "\n",
        "# Here's what you'll need to run this notebook\n",
        "# 1/ Your strava bulk export or GPX files. The bulk export is easy and you can find it here: https://support.strava.com/hc/en-us/articles/216918437-Exporting-your-Data-and-Bulk-Export#h_01GG58HC4F1BGQ9PQZZVANN6WF\n",
        "# 2/ A segment to get your times on. You can grab the JSON for a segment by going to \"https://www.strava.com/stream/segments/<segment_id>?streams%5B%5D=latlng\" and saving as eg hawkhill.json, then uploading to Colab.\n",
        "#    For Hawk Hill in Marin California, that URL is https://www.strava.com/stream/segments/229781?streams%5B%5D=latlng\n",
        "#    That's it. Please use and help contribute if you're excited about this."
      ],
      "metadata": {
        "id": "3OrdR6yFJzrU"
      },
      "execution_count": null,
      "outputs": []
    },
    {
      "cell_type": "code",
      "source": [
        "# Upload your strava export .zip to Google Colab\n",
        "!! mkdir strava_export\n",
        "!! unzip export_XXXXXX.zip -d /content/strava_export"
      ],
      "metadata": {
        "id": "ZYRe6XE4zsyK"
      },
      "execution_count": null,
      "outputs": []
    },
    {
      "cell_type": "code",
      "source": [
        "!! pip install fit2gpx gpxpy"
      ],
      "metadata": {
        "id": "fUCqI75xbx0t"
      },
      "execution_count": null,
      "outputs": []
    },
    {
      "cell_type": "code",
      "source": [
        "from fit2gpx import StravaConverter\n",
        "\n",
        "DIR_STRAVA = '/content/strava_export'\n",
        "\n",
        "# Convert strava files to gpx. From the export they may be .fit or compressed files\n",
        "# Note: This can take a while. It took 3 minutes for my 500 activities, but we only have to do it once\n",
        "\n",
        "strava_conv = StravaConverter(\n",
        "    dir_in=DIR_STRAVA\n",
        ")\n",
        "\n",
        "# Step 2: Unzip the zipped files\n",
        "strava_conv.unzip_activities()\n",
        "\n",
        "# Step 3: Add metadata to existing GPX files\n",
        "strava_conv.add_metadata_to_gpx()\n",
        "\n",
        "# Step 4: Convert FIT to GPX\n",
        "strava_conv.strava_fit_to_gpx()"
      ],
      "metadata": {
        "id": "l47Y9k5uqr2N"
      },
      "execution_count": null,
      "outputs": []
    },
    {
      "cell_type": "code",
      "source": [
        "files = [f for f in os.listdir('/content/activities_gpx') if f.endswith('.gpx')]\n",
        "print(len(files))"
      ],
      "metadata": {
        "colab": {
          "base_uri": "https://localhost:8080/"
        },
        "id": "C1qkh-VutJmJ",
        "outputId": "4f627928-6950-41f2-b81a-9f6d3d8b9514"
      },
      "execution_count": null,
      "outputs": [
        {
          "output_type": "stream",
          "name": "stdout",
          "text": [
            "591\n"
          ]
        }
      ]
    },
    {
      "cell_type": "code",
      "source": [
        "import gpxpy\n",
        "import pandas as pd\n",
        "import os\n",
        "from tqdm import tqdm\n",
        "\n",
        "# Now we load the GPX files to dataframe\n",
        "\n",
        "def convert_gpx_to_dataframe(gpx_path):\n",
        "  with open(gpx_path) as f:\n",
        "    # if f is empty continue\n",
        "    if f.read() == '':\n",
        "      return None\n",
        "    f.seek(0)\n",
        "    gpx = gpxpy.parse(f)\n",
        "\n",
        "  # Convert to a dataframe one point at a time.\n",
        "  points = []\n",
        "  for segment in gpx.tracks[0].segments:\n",
        "      for p in segment.points:\n",
        "          points.append({\n",
        "              'time': p.time,\n",
        "              'latitude': p.latitude,\n",
        "              'longitude': p.longitude,\n",
        "              'elevation': p.elevation,\n",
        "          })\n",
        "  df = pd.DataFrame.from_records(points)\n",
        "  return df\n",
        "\n",
        "\n",
        "def load_gpx_to_dataframes(gpx_folder):\n",
        "    dfs = []\n",
        "    # Get all .gpx files in the input directory\n",
        "    gpx_files = [f for f in os.listdir(gpx_folder) if f.endswith('.gpx')]\n",
        "\n",
        "    # Process each file\n",
        "    for gpx_file in tqdm(gpx_files):\n",
        "      # Create the full path to the input .gpx file\n",
        "      dfs.append(convert_gpx_to_dataframe(os.path.join(gpx_folder, gpx_file)))\n",
        "\n",
        "    return dfs\n",
        "\n",
        "gpx_folder_path = '/content/activities_gpx'\n",
        "dfs = load_gpx_to_dataframes(gpx_folder_path)"
      ],
      "metadata": {
        "id": "RB1_jvvxxaWN",
        "colab": {
          "base_uri": "https://localhost:8080/"
        },
        "outputId": "473db662-539b-456e-975f-8c0267cded95"
      },
      "execution_count": null,
      "outputs": [
        {
          "output_type": "stream",
          "name": "stderr",
          "text": [
            "100%|██████████| 591/591 [02:42<00:00,  3.64it/s]\n"
          ]
        }
      ]
    },
    {
      "cell_type": "code",
      "source": [
        "import pandas as pd\n",
        "import geopandas as gpd\n",
        "from shapely.geometry import Point, LineString\n",
        "import numpy as np\n",
        "\n",
        "def analyze_segment_in_ride(ride_data, segment_points, proximity_threshold=25, completion_percentage=75):\n",
        "    # Convert ride data and segment points to GeoDataFrames\n",
        "    ride_geometry = [Point(xy) for xy in zip(ride_data['longitude'], ride_data['latitude'])]\n",
        "    segment_geometry = [Point(lon, lat) for lat, lon in segment_points]\n",
        "    geo_df_ride = gpd.GeoDataFrame(ride_data, geometry=ride_geometry)\n",
        "    geo_df_segment = gpd.GeoDataFrame(geometry=segment_geometry)\n",
        "\n",
        "    threshold_degrees = proximity_threshold / 111320  # convert meters to degrees\n",
        "\n",
        "    def is_within_threshold(point, line):\n",
        "        return point.distance(line) < threshold_degrees\n",
        "\n",
        "    # Create a LineString from the segment points\n",
        "    segment_line = LineString(geo_df_segment.geometry)\n",
        "\n",
        "    # Find all ride points close to the first and last segment point\n",
        "    start_matches = [i for i, ride_point in enumerate(geo_df_ride.geometry) if ride_point.distance(geo_df_segment.geometry.iloc[0]) < threshold_degrees]\n",
        "    end_matches = [i for i, ride_point in enumerate(geo_df_ride.geometry) if ride_point.distance(geo_df_segment.geometry.iloc[-1]) < threshold_degrees]\n",
        "    #print(start_matches)\n",
        "    #print(end_matches)\n",
        "\n",
        "    if not start_matches or not end_matches:\n",
        "        return {'rode_segment': False, 'percentage_close': 0}\n",
        "\n",
        "    # Identify the range within the ride to check\n",
        "    #latest_start = max(start_matches)\n",
        "    for latest_start in start_matches:\n",
        "      earliest_end = min(end_matches)\n",
        "\n",
        "      if latest_start >= earliest_end:  # Segment points must be in the correct order\n",
        "        continue\n",
        "\n",
        "      # Check the intermediate ride points\n",
        "      intermediate_ride_points = geo_df_ride.geometry[latest_start:earliest_end + 1]  # Include the \"end\" point\n",
        "      close_points_count = sum(is_within_threshold(ride_point, segment_line) for ride_point in intermediate_ride_points)\n",
        "\n",
        "      percentage_close = (close_points_count / len(intermediate_ride_points)) * 100\n",
        "\n",
        "      if percentage_close >= completion_percentage:\n",
        "          start_time = ride_data.iloc[latest_start]['time']\n",
        "          end_time = ride_data.iloc[earliest_end]['time']\n",
        "          duration = pd.to_datetime(end_time) - pd.to_datetime(start_time)\n",
        "          return {\n",
        "              'rode_segment': True,\n",
        "              'percentage_close': percentage_close,\n",
        "              'start_time': start_time,\n",
        "              'end_time': end_time,\n",
        "              'duration': duration\n",
        "          }\n",
        "\n",
        "      return {'rode_segment': False, 'percentage_close': percentage_close}"
      ],
      "metadata": {
        "id": "PgJ030Xce93Q"
      },
      "execution_count": null,
      "outputs": []
    },
    {
      "cell_type": "code",
      "source": [],
      "metadata": {
        "id": "aC2VsJpDsqZx"
      },
      "execution_count": null,
      "outputs": []
    },
    {
      "cell_type": "code",
      "source": [
        "import pandas as pd\n",
        "import json\n",
        "\n",
        "def load_ride_data(csv_file_path):\n",
        "    \"\"\"\n",
        "    Load ride data from a CSV file into a pandas DataFrame.\n",
        "    \"\"\"\n",
        "    ride_data = pd.read_csv(csv_file_path)\n",
        "    #geometry_ride = [Point(xy) for xy in zip(ride_data['longitude'], ride_data['latitude'])]\n",
        "    #geo_df_ride = gpd.GeoDataFrame(ride_data, geometry=geometry_ride)\n",
        "\n",
        "    return ride_data\n",
        "\n",
        "def load_segment_data(json_file_path):\n",
        "    \"\"\"\n",
        "    Load segment data from a JSON file into a list of tuples.\n",
        "    \"\"\"\n",
        "    with open(json_file_path, 'r') as file:\n",
        "        segment_data = json.load(file)\n",
        "        # Assuming the JSON structure is a dictionary with 'features' as a key\n",
        "        # and coordinates are in a list as [longitude, latitude]\n",
        "        segment_points = [(point[0], point[1]) for point in segment_data['latlng']]\n",
        "\n",
        "    # Convert segment points to GeoDataFrame\n",
        "\n",
        "    #geometry_segment = [Point(lon, lat) for lat, lon in segment_points]\n",
        "    #geo_df_segment = gpd.GeoDataFrame(geometry=geometry_segment)\n",
        "    return segment_points\n",
        "\n",
        "def ride_data_to_geodataframe(ride_data):\n",
        "    geometry_ride = [Point(xy) for xy in zip(ride_data['longitude'], ride_data['latitude'])]\n",
        "    geo_df_ride = gpd.GeoDataFrame(ride_data, geometry=geometry_ride)\n",
        "    return geo_df_ride\n",
        "\n",
        "def segment_points_to_geodataframe(segment_points):\n",
        "    geometry_segment = [Point(lon, lat) for lat, lon in segment_points]\n",
        "    geo_df_segment = gpd.GeoDataFrame(geometry=geometry_segment)\n",
        "    return geo_df_segment\n",
        "\n",
        "\n",
        "# Here we're checking if the last activity went through the hawkhill segment\n",
        "ride_data = dfs[-1]\n",
        "\n",
        "segment_data_path = 'oldlahonda.json'\n",
        "\n",
        "# You can grab the JSON for the ride by going to \"https://www.strava.com/stream/segments/229781?streams%5B%5D=latlng\" and saving as eg hawkhill.json, then uploading to Colab\n",
        "segment_points = load_segment_data(segment_data_path)\n",
        "\n",
        "analysis_results = analyze_segment_in_ride(ride_data, segment_points)\n",
        "\n",
        "print(analysis_results)"
      ],
      "metadata": {
        "colab": {
          "base_uri": "https://localhost:8080/"
        },
        "id": "_HZFavE-pMad",
        "outputId": "1070be39-5bb1-49af-ceb7-a88fe1c4fd9a"
      },
      "execution_count": null,
      "outputs": [
        {
          "output_type": "stream",
          "name": "stdout",
          "text": [
            "{'rode_segment': False, 'percentage_close': 0}\n"
          ]
        }
      ]
    },
    {
      "cell_type": "code",
      "source": [],
      "metadata": {
        "id": "0EyJOe8rOfgd"
      },
      "execution_count": null,
      "outputs": []
    },
    {
      "cell_type": "code",
      "source": [
        "from shapely.geometry import box\n",
        "\n",
        "def ride_intersects_segment(ride_data, segment_data):\n",
        "    # Create a bounding box for the ride\n",
        "    ride_bounds = ride_data.total_bounds  # returns (minx, miny, maxx, maxy)\n",
        "    ride_bbox = box(*ride_bounds)\n",
        "\n",
        "    # Create a bounding box for the segment\n",
        "    segment_bounds = segment_data.total_bounds  # returns (minx, miny, maxx, maxy)\n",
        "    segment_bbox = box(*segment_bounds)\n",
        "\n",
        "    # Check for intersection between the ride and segment bounding boxes\n",
        "    return ride_bbox.intersects(segment_bbox)\n"
      ],
      "metadata": {
        "id": "0hSeHUBFpNBO"
      },
      "execution_count": null,
      "outputs": []
    },
    {
      "cell_type": "code",
      "source": [
        "# Here we're running a faster check to see if each ride was near hawk hill segment, and getting a shortlist of potential ride matches\n",
        "\n",
        "hawk_potentials = []\n",
        "segment_geo_df = segment_points_to_geodataframe(segment_points)  # your segment data as a GeoDataFrame\n",
        "for df in tqdm(dfs):\n",
        "  try:\n",
        "    ride_geo_df = ride_data_to_geodataframe(df)  # your ride data as a GeoDataFrame\n",
        "  except:\n",
        "    print('failing, passing on')\n",
        "    continue\n",
        "  if ride_intersects_segment(ride_geo_df, segment_geo_df):\n",
        "    hawk_potentials.append(ride_geo_df)\n",
        "    print('true')"
      ],
      "metadata": {
        "colab": {
          "base_uri": "https://localhost:8080/"
        },
        "id": "GsoWFmG8ywUD",
        "outputId": "e00ec0a8-b323-418d-8dde-d2abadba2f96"
      },
      "execution_count": null,
      "outputs": [
        {
          "output_type": "stream",
          "name": "stderr",
          "text": [
            "  8%|▊         | 48/591 [00:01<00:15, 35.40it/s]"
          ]
        },
        {
          "output_type": "stream",
          "name": "stdout",
          "text": [
            "true\n"
          ]
        },
        {
          "output_type": "stream",
          "name": "stderr",
          "text": [
            "\r  9%|▉         | 52/591 [00:01<00:17, 30.72it/s]"
          ]
        },
        {
          "output_type": "stream",
          "name": "stdout",
          "text": [
            "true\n"
          ]
        },
        {
          "output_type": "stream",
          "name": "stderr",
          "text": [
            " 13%|█▎        | 74/591 [00:02<00:29, 17.43it/s]"
          ]
        },
        {
          "output_type": "stream",
          "name": "stdout",
          "text": [
            "true\n"
          ]
        },
        {
          "output_type": "stream",
          "name": "stderr",
          "text": [
            " 14%|█▍        | 84/591 [00:03<00:27, 18.63it/s]"
          ]
        },
        {
          "output_type": "stream",
          "name": "stdout",
          "text": [
            "true\n"
          ]
        },
        {
          "output_type": "stream",
          "name": "stderr",
          "text": [
            " 17%|█▋        | 99/591 [00:04<00:20, 23.90it/s]"
          ]
        },
        {
          "output_type": "stream",
          "name": "stdout",
          "text": [
            "true\n"
          ]
        },
        {
          "output_type": "stream",
          "name": "stderr",
          "text": [
            " 18%|█▊        | 106/591 [00:04<00:19, 24.49it/s]"
          ]
        },
        {
          "output_type": "stream",
          "name": "stdout",
          "text": [
            "true\n"
          ]
        },
        {
          "output_type": "stream",
          "name": "stderr",
          "text": [
            " 24%|██▎       | 140/591 [00:06<00:15, 29.51it/s]"
          ]
        },
        {
          "output_type": "stream",
          "name": "stdout",
          "text": [
            "true\n",
            "true\n",
            "true\n"
          ]
        },
        {
          "output_type": "stream",
          "name": "stderr",
          "text": [
            " 31%|███▏      | 186/591 [00:07<00:13, 30.22it/s]"
          ]
        },
        {
          "output_type": "stream",
          "name": "stdout",
          "text": [
            "true\n",
            "true\n"
          ]
        },
        {
          "output_type": "stream",
          "name": "stderr",
          "text": [
            " 36%|███▌      | 211/591 [00:08<00:10, 35.62it/s]"
          ]
        },
        {
          "output_type": "stream",
          "name": "stdout",
          "text": [
            "failing, passing on\n",
            "true\n"
          ]
        },
        {
          "output_type": "stream",
          "name": "stderr",
          "text": [
            " 37%|███▋      | 219/591 [00:08<00:10, 34.33it/s]"
          ]
        },
        {
          "output_type": "stream",
          "name": "stdout",
          "text": [
            "true\n"
          ]
        },
        {
          "output_type": "stream",
          "name": "stderr",
          "text": [
            " 40%|███▉      | 235/591 [00:09<00:13, 26.70it/s]"
          ]
        },
        {
          "output_type": "stream",
          "name": "stdout",
          "text": [
            "true\n"
          ]
        },
        {
          "output_type": "stream",
          "name": "stderr",
          "text": [
            " 44%|████▎     | 258/591 [00:10<00:09, 33.39it/s]"
          ]
        },
        {
          "output_type": "stream",
          "name": "stdout",
          "text": [
            "true\n"
          ]
        },
        {
          "output_type": "stream",
          "name": "stderr",
          "text": [
            " 49%|████▊     | 288/591 [00:10<00:07, 40.21it/s]"
          ]
        },
        {
          "output_type": "stream",
          "name": "stdout",
          "text": [
            "true\n"
          ]
        },
        {
          "output_type": "stream",
          "name": "stderr",
          "text": [
            " 50%|█████     | 298/591 [00:11<00:11, 24.54it/s]"
          ]
        },
        {
          "output_type": "stream",
          "name": "stdout",
          "text": [
            "true\n"
          ]
        },
        {
          "output_type": "stream",
          "name": "stderr",
          "text": [
            " 52%|█████▏    | 310/591 [00:11<00:09, 28.18it/s]"
          ]
        },
        {
          "output_type": "stream",
          "name": "stdout",
          "text": [
            "true\n"
          ]
        },
        {
          "output_type": "stream",
          "name": "stderr",
          "text": [
            " 54%|█████▍    | 318/591 [00:12<00:09, 28.76it/s]"
          ]
        },
        {
          "output_type": "stream",
          "name": "stdout",
          "text": [
            "true\n"
          ]
        },
        {
          "output_type": "stream",
          "name": "stderr",
          "text": [
            " 64%|██████▍   | 379/591 [00:14<00:10, 20.39it/s]"
          ]
        },
        {
          "output_type": "stream",
          "name": "stdout",
          "text": [
            "true\n"
          ]
        },
        {
          "output_type": "stream",
          "name": "stderr",
          "text": [
            " 70%|██████▉   | 412/591 [00:16<00:09, 18.68it/s]"
          ]
        },
        {
          "output_type": "stream",
          "name": "stdout",
          "text": [
            "true\n"
          ]
        },
        {
          "output_type": "stream",
          "name": "stderr",
          "text": [
            " 72%|███████▏  | 424/591 [00:17<00:10, 15.98it/s]"
          ]
        },
        {
          "output_type": "stream",
          "name": "stdout",
          "text": [
            "true\n"
          ]
        },
        {
          "output_type": "stream",
          "name": "stderr",
          "text": [
            " 74%|███████▍  | 436/591 [00:17<00:07, 20.83it/s]"
          ]
        },
        {
          "output_type": "stream",
          "name": "stdout",
          "text": [
            "true\n"
          ]
        },
        {
          "output_type": "stream",
          "name": "stderr",
          "text": [
            " 76%|███████▌  | 449/591 [00:18<00:04, 32.07it/s]"
          ]
        },
        {
          "output_type": "stream",
          "name": "stdout",
          "text": [
            "true\n",
            "true\n"
          ]
        },
        {
          "output_type": "stream",
          "name": "stderr",
          "text": [
            " 79%|███████▊  | 464/591 [00:18<00:05, 25.18it/s]"
          ]
        },
        {
          "output_type": "stream",
          "name": "stdout",
          "text": [
            "true\n"
          ]
        },
        {
          "output_type": "stream",
          "name": "stderr",
          "text": [
            " 81%|████████  | 480/591 [00:19<00:03, 32.30it/s]"
          ]
        },
        {
          "output_type": "stream",
          "name": "stdout",
          "text": [
            "true\n"
          ]
        },
        {
          "output_type": "stream",
          "name": "stderr",
          "text": [
            " 87%|████████▋ | 515/591 [00:20<00:01, 40.80it/s]"
          ]
        },
        {
          "output_type": "stream",
          "name": "stdout",
          "text": [
            "true\n",
            "true\n"
          ]
        },
        {
          "output_type": "stream",
          "name": "stderr",
          "text": [
            " 90%|████████▉ | 531/591 [00:20<00:01, 40.54it/s]"
          ]
        },
        {
          "output_type": "stream",
          "name": "stdout",
          "text": [
            "true\n"
          ]
        },
        {
          "output_type": "stream",
          "name": "stderr",
          "text": [
            " 96%|█████████▌| 568/591 [00:22<00:00, 32.92it/s]"
          ]
        },
        {
          "output_type": "stream",
          "name": "stdout",
          "text": [
            "true\n"
          ]
        },
        {
          "output_type": "stream",
          "name": "stderr",
          "text": [
            "100%|██████████| 591/591 [00:22<00:00, 25.90it/s]\n"
          ]
        }
      ]
    },
    {
      "cell_type": "code",
      "source": [
        "# And finally, on the shortlist, getting the actual time and confirming whether or not the activity matched the segment\n",
        "\n",
        "segment_points = load_segment_data(segment_data_path)[:-10] #chopping last 10 points off. Seems to include extra points\n",
        "df = pd.DataFrame(columns=['duration','start_time'])\n",
        "for ride_geo_df in hawk_potentials:\n",
        "  analysis_results = analyze_segment_in_ride(ride_geo_df, segment_points)\n",
        "  if analysis_results['rode_segment']:\n",
        "    dfs_to_concat = [df, pd.DataFrame.from_dict(analysis_results, orient='index').T]\n",
        "    df = pd.concat(dfs_to_concat, ignore_index=True)\n",
        "  print(analysis_results)\n"
      ],
      "metadata": {
        "colab": {
          "base_uri": "https://localhost:8080/"
        },
        "id": "O5vKEB7wrFUr",
        "outputId": "c71be907-095f-4ac2-9eab-e46108176a22"
      },
      "execution_count": null,
      "outputs": [
        {
          "output_type": "stream",
          "name": "stdout",
          "text": [
            "{'rode_segment': False, 'percentage_close': 0}\n",
            "{'rode_segment': True, 'percentage_close': 99.57081545064378, 'start_time': Timestamp('2013-07-31 01:25:53+0000', tz='SimpleTZ(\"Z\")'), 'end_time': Timestamp('2013-07-31 01:46:52+0000', tz='SimpleTZ(\"Z\")'), 'duration': Timedelta('0 days 00:20:59')}\n",
            "{'rode_segment': True, 'percentage_close': 98.71685201026519, 'start_time': Timestamp('2013-03-27 00:53:04+0000', tz='SimpleTZ(\"Z\")'), 'end_time': Timestamp('2013-03-27 01:13:53+0000', tz='SimpleTZ(\"Z\")'), 'duration': Timedelta('0 days 00:20:49')}\n",
            "{'rode_segment': True, 'percentage_close': 94.61883408071749, 'start_time': Timestamp('2012-03-23 23:21:19+0000', tz='SimpleTZ(\"Z\")'), 'end_time': Timestamp('2012-03-23 23:43:37+0000', tz='SimpleTZ(\"Z\")'), 'duration': Timedelta('0 days 00:22:18')}\n",
            "{'rode_segment': True, 'percentage_close': 94.43099273607749, 'start_time': Timestamp('2012-04-17 23:36:50+0000', tz='SimpleTZ(\"Z\")'), 'end_time': Timestamp('2012-04-17 23:57:27+0000', tz='SimpleTZ(\"Z\")'), 'duration': Timedelta('0 days 00:20:37')}\n",
            "{'rode_segment': False, 'percentage_close': 0}\n",
            "{'rode_segment': False, 'percentage_close': 0}\n",
            "{'rode_segment': True, 'percentage_close': 95.13457556935818, 'start_time': Timestamp('2021-09-26 21:36:14+0000', tz='SimpleTZ(\"Z\")'), 'end_time': Timestamp('2021-09-26 22:01:44+0000', tz='SimpleTZ(\"Z\")'), 'duration': Timedelta('0 days 00:25:30')}\n",
            "{'rode_segment': True, 'percentage_close': 96.017316017316, 'start_time': Timestamp('2019-06-01 00:34:34+0000', tz='SimpleTZ(\"Z\")'), 'end_time': Timestamp('2019-06-01 00:59:23+0000', tz='SimpleTZ(\"Z\")'), 'duration': Timedelta('0 days 00:24:49')}\n",
            "{'rode_segment': False, 'percentage_close': 0}\n",
            "{'rode_segment': False, 'percentage_close': 0}\n",
            "{'rode_segment': True, 'percentage_close': 98.37133550488599, 'start_time': Timestamp('2013-06-07 01:16:34+0000', tz='SimpleTZ(\"Z\")'), 'end_time': Timestamp('2013-06-07 01:37:49+0000', tz='SimpleTZ(\"Z\")'), 'duration': Timedelta('0 days 00:21:15')}\n",
            "{'rode_segment': True, 'percentage_close': 97.60665972944848, 'start_time': Timestamp('2021-07-11 21:12:01+0000', tz='SimpleTZ(\"Z\")'), 'end_time': Timestamp('2021-07-11 21:36:29+0000', tz='SimpleTZ(\"Z\")'), 'duration': Timedelta('0 days 00:24:28')}\n",
            "{'rode_segment': False, 'percentage_close': 0}\n",
            "{'rode_segment': False, 'percentage_close': 0}\n",
            "{'rode_segment': False, 'percentage_close': 0}\n",
            "{'rode_segment': True, 'percentage_close': 96.07458292443573, 'start_time': Timestamp('2014-04-24 00:20:57+0000', tz='SimpleTZ(\"Z\")'), 'end_time': Timestamp('2014-04-24 00:48:30+0000', tz='SimpleTZ(\"Z\")'), 'duration': Timedelta('0 days 00:27:33')}\n",
            "{'rode_segment': False, 'percentage_close': 0}\n",
            "{'rode_segment': False, 'percentage_close': 0}\n",
            "{'rode_segment': False, 'percentage_close': 0}\n",
            "{'rode_segment': True, 'percentage_close': 97.89545145960624, 'start_time': Timestamp('2021-07-11 21:11:35+0000', tz='SimpleTZ(\"Z\")'), 'end_time': Timestamp('2021-07-11 21:36:08+0000', tz='SimpleTZ(\"Z\")'), 'duration': Timedelta('0 days 00:24:33')}\n",
            "{'rode_segment': True, 'percentage_close': 92.3076923076923, 'start_time': Timestamp('2012-04-14 22:49:37+0000', tz='SimpleTZ(\"Z\")'), 'end_time': Timestamp('2012-04-14 23:11:16+0000', tz='SimpleTZ(\"Z\")'), 'duration': Timedelta('0 days 00:21:39')}\n",
            "{'rode_segment': False, 'percentage_close': 0}\n",
            "{'rode_segment': False, 'percentage_close': 0}\n",
            "{'rode_segment': True, 'percentage_close': 95.75104727707959, 'start_time': Timestamp('2022-07-07 01:42:50+0000', tz='SimpleTZ(\"Z\")'), 'end_time': Timestamp('2022-07-07 02:10:56+0000', tz='SimpleTZ(\"Z\")'), 'duration': Timedelta('0 days 00:28:06')}\n",
            "{'rode_segment': True, 'percentage_close': 94.99467518636848, 'start_time': Timestamp('2013-04-11 00:53:30+0000', tz='SimpleTZ(\"Z\")'), 'end_time': Timestamp('2013-04-11 01:15:29+0000', tz='SimpleTZ(\"Z\")'), 'duration': Timedelta('0 days 00:21:59')}\n",
            "{'rode_segment': False, 'percentage_close': 0}\n",
            "{'rode_segment': False, 'percentage_close': 0}\n",
            "{'rode_segment': True, 'percentage_close': 98.32797427652733, 'start_time': Timestamp('2021-09-11 20:09:06+0000', tz='SimpleTZ(\"Z\")'), 'end_time': Timestamp('2021-09-11 20:35:02+0000', tz='SimpleTZ(\"Z\")'), 'duration': Timedelta('0 days 00:25:56')}\n",
            "{'rode_segment': False, 'percentage_close': 0}\n",
            "{'rode_segment': True, 'percentage_close': 95.55796316359697, 'start_time': Timestamp('2013-06-20 01:03:22+0000', tz='SimpleTZ(\"Z\")'), 'end_time': Timestamp('2013-06-20 01:25:19+0000', tz='SimpleTZ(\"Z\")'), 'duration': Timedelta('0 days 00:21:57')}\n"
          ]
        }
      ]
    },
    {
      "cell_type": "code",
      "source": [],
      "metadata": {
        "id": "13Xrbumm1dNE"
      },
      "execution_count": null,
      "outputs": []
    },
    {
      "cell_type": "code",
      "source": [
        "import matplotlib.pyplot as plt\n",
        "import matplotlib.dates as mdates\n",
        "\n",
        "# Finally, let's plot the activities and their times\n",
        "\n",
        "# Define the float_to_minutes_seconds function\n",
        "def float_to_minutes_seconds(minutes_float):\n",
        "    minutes = int(minutes_float)\n",
        "    seconds = int((minutes_float - minutes) * 60)\n",
        "    time_str = f\"{minutes:02d}:{seconds:02d}\"\n",
        "    return time_str\n",
        "\n",
        "# Create a new column 'duration_string' using apply\n",
        "\n",
        "\n",
        "# Ensure that 'start_time' is in datetime format and 'duration_minutes' is a numerical value\n",
        "df['start_time'] = df['start_time'].dt.tz_localize(None)\n",
        "df['start_time'] = pd.to_datetime(df['start_time'])\n",
        "df['duration_minutes'] = df['duration'].dt.total_seconds() / 60  # if 'duration_minutes' is not already calculated\n",
        "df['duration_string'] = df['duration_minutes'].apply(float_to_minutes_seconds)\n",
        "\n",
        "# Get the current date and calculate the date 6 months ago\n",
        "current_date = pd.to_datetime('today')\n",
        "six_months_ago = current_date - pd.DateOffset(months=2000)\n",
        "\n",
        "# Filter the DataFrame to only include data from the last 6 months\n",
        "recent_df = df[df['start_time'] >= six_months_ago]\n",
        "\n",
        "# Create the plot with the filtered data\n",
        "fig, ax = plt.subplots()\n",
        "ax.scatter(recent_df['start_time'], recent_df['duration_minutes'])\n",
        "\n",
        "# Making the x-axis labels more readable\n",
        "#ax.xaxis.set_major_locator(mdates.MonthLocator())  # one tick per month\n",
        "#ax.xaxis.set_major_formatter(mdates.DateFormatter('%Y-%m'))  # dates in 'YYYY-MM' format.\n",
        "plt.xticks(rotation=45)  # rotate date labels for better fit\n",
        "\n",
        "# Set labels and title\n",
        "ax.set_xlabel('Start Time')\n",
        "ax.set_ylabel('Duration (minutes)')\n",
        "ax.set_title('Strava Duration Over Time for ' + segment_data_path)\n",
        "\n",
        "plt.show()\n"
      ],
      "metadata": {
        "id": "Vr7DYPe12Dwi",
        "colab": {
          "base_uri": "https://localhost:8080/",
          "height": 493
        },
        "outputId": "28398b75-76ec-42ee-e656-cf916bf39809"
      },
      "execution_count": null,
      "outputs": [
        {
          "output_type": "display_data",
          "data": {
            "text/plain": [
              "<Figure size 640x480 with 1 Axes>"
            ],
            "image/png": "[encoded data removed]"
          },
          "metadata": {}
        }
      ]
    },
    {
      "cell_type": "code",
      "source": [
        "# And the list\n",
        "print(df[['start_time','duration_string']].sort_values(by=['start_time']))"
      ],
      "metadata": {
        "colab": {
          "base_uri": "https://localhost:8080/"
        },
        "id": "gV6pOlxjV60o",
        "outputId": "8b01a764-14e8-4c11-8165-220b82891889"
      },
      "execution_count": null,
      "outputs": [
        {
          "output_type": "stream",
          "name": "stdout",
          "text": [
            "            start_time duration_string\n",
            "2  2012-03-23 23:21:19           22:18\n",
            "10 2012-04-14 22:49:37           21:38\n",
            "3  2012-04-17 23:36:50           20:37\n",
            "1  2013-03-27 00:53:04           20:48\n",
            "12 2013-04-11 00:53:30           21:59\n",
            "6  2013-06-07 01:16:34           21:15\n",
            "14 2013-06-20 01:03:22           21:56\n",
            "0  2013-07-31 01:25:53           20:59\n",
            "8  2014-04-24 00:20:57           27:33\n",
            "5  2019-06-01 00:34:34           24:48\n",
            "9  2021-07-11 21:11:35           24:33\n",
            "7  2021-07-11 21:12:01           24:27\n",
            "13 2021-09-11 20:09:06           25:56\n",
            "4  2021-09-26 21:36:14           25:30\n",
            "11 2022-07-07 01:42:50           28:06\n"
          ]
        }
      ]
    },
    {
      "cell_type": "code",
      "source": [],
      "metadata": {
        "id": "bDhsmuByWNLt"
      },
      "execution_count": null,
      "outputs": []
    }
  ]
}